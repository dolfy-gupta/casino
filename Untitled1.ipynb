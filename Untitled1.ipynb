{
 "cells": [
  {
   "cell_type": "code",
   "execution_count": 3,
   "id": "839ef417",
   "metadata": {},
   "outputs": [],
   "source": [
    "import numpy as np\n",
    "import seaborn as sns\n",
    "import matplotlib.pyplot as plt\n",
    "import pandas as pd"
   ]
  },
  {
   "cell_type": "markdown",
   "id": "1caf260d",
   "metadata": {},
   "source": [
    "## Information About the dataset \n",
    "gamers - the number of players in this game.\n",
    "skins - how many items do players bet in this game.\n",
    "money - the equivalent of items in real money (dollars).\n",
    "ticks - coefficient of the site for this game.\n",
    "peopleWin - the amount of money people won this game (dollars). theirBet⋅coef-theirBet\n",
    "peopleLost - the amount of money people lost this game (dollars).\n",
    "outpay - the amount of money people get from this game (dollars). theirBet⋅coef\n",
    "time - YY-MM-DD hh-mm when this game happened.\n",
    "moderator - if the moderator was playing in this game."
   ]
  },
  {
   "cell_type": "code",
   "execution_count": 4,
   "id": "755ab8ae",
   "metadata": {},
   "outputs": [],
   "source": [
    "## Reading Dataset\n",
    "data= pd.read_csv(\"onlineCasino.csv\")"
   ]
  },
  {
   "cell_type": "code",
   "execution_count": 5,
   "id": "6d2c8afa",
   "metadata": {
    "scrolled": false
   },
   "outputs": [
    {
     "data": {
      "text/html": [
       "<div>\n",
       "<style scoped>\n",
       "    .dataframe tbody tr th:only-of-type {\n",
       "        vertical-align: middle;\n",
       "    }\n",
       "\n",
       "    .dataframe tbody tr th {\n",
       "        vertical-align: top;\n",
       "    }\n",
       "\n",
       "    .dataframe thead th {\n",
       "        text-align: right;\n",
       "    }\n",
       "</style>\n",
       "<table border=\"1\" class=\"dataframe\">\n",
       "  <thead>\n",
       "    <tr style=\"text-align: right;\">\n",
       "      <th></th>\n",
       "      <th>ID</th>\n",
       "      <th>gamers</th>\n",
       "      <th>skins</th>\n",
       "      <th>money</th>\n",
       "      <th>ticks</th>\n",
       "      <th>peopleWin</th>\n",
       "      <th>peopleLost</th>\n",
       "      <th>outpay</th>\n",
       "      <th>time</th>\n",
       "      <th>moderator</th>\n",
       "    </tr>\n",
       "  </thead>\n",
       "  <tbody>\n",
       "    <tr>\n",
       "      <th>0</th>\n",
       "      <td>2091103</td>\n",
       "      <td>144</td>\n",
       "      <td>174</td>\n",
       "      <td>283.57</td>\n",
       "      <td>14.30</td>\n",
       "      <td>125.459984</td>\n",
       "      <td>0.250000</td>\n",
       "      <td>408.780000</td>\n",
       "      <td>2021-08-25 16:43</td>\n",
       "      <td>False</td>\n",
       "    </tr>\n",
       "    <tr>\n",
       "      <th>1</th>\n",
       "      <td>2091104</td>\n",
       "      <td>134</td>\n",
       "      <td>182</td>\n",
       "      <td>279.30</td>\n",
       "      <td>1.14</td>\n",
       "      <td>5.810003</td>\n",
       "      <td>177.040000</td>\n",
       "      <td>108.070010</td>\n",
       "      <td>2021-08-25 16:44</td>\n",
       "      <td>False</td>\n",
       "    </tr>\n",
       "    <tr>\n",
       "      <th>2</th>\n",
       "      <td>2091105</td>\n",
       "      <td>139</td>\n",
       "      <td>179</td>\n",
       "      <td>282.87</td>\n",
       "      <td>3.91</td>\n",
       "      <td>125.010000</td>\n",
       "      <td>5.960000</td>\n",
       "      <td>401.919920</td>\n",
       "      <td>2021-08-25 16:44</td>\n",
       "      <td>False</td>\n",
       "    </tr>\n",
       "    <tr>\n",
       "      <th>3</th>\n",
       "      <td>2091106</td>\n",
       "      <td>139</td>\n",
       "      <td>169</td>\n",
       "      <td>271.44</td>\n",
       "      <td>1.15</td>\n",
       "      <td>6.900001</td>\n",
       "      <td>181.850000</td>\n",
       "      <td>96.490005</td>\n",
       "      <td>2021-08-25 16:45</td>\n",
       "      <td>False</td>\n",
       "    </tr>\n",
       "    <tr>\n",
       "      <th>4</th>\n",
       "      <td>2091107</td>\n",
       "      <td>142</td>\n",
       "      <td>177</td>\n",
       "      <td>304.88</td>\n",
       "      <td>1.00</td>\n",
       "      <td>0.000000</td>\n",
       "      <td>304.880000</td>\n",
       "      <td>0.000000</td>\n",
       "      <td>2021-08-25 16:45</td>\n",
       "      <td>False</td>\n",
       "    </tr>\n",
       "    <tr>\n",
       "      <th>5</th>\n",
       "      <td>2091108</td>\n",
       "      <td>161</td>\n",
       "      <td>204</td>\n",
       "      <td>463.81</td>\n",
       "      <td>2.46</td>\n",
       "      <td>118.959984</td>\n",
       "      <td>15.450000</td>\n",
       "      <td>567.320100</td>\n",
       "      <td>2021-08-25 16:45</td>\n",
       "      <td>False</td>\n",
       "    </tr>\n",
       "    <tr>\n",
       "      <th>6</th>\n",
       "      <td>2091109</td>\n",
       "      <td>157</td>\n",
       "      <td>190</td>\n",
       "      <td>342.79</td>\n",
       "      <td>1.45</td>\n",
       "      <td>36.499992</td>\n",
       "      <td>119.429990</td>\n",
       "      <td>259.860020</td>\n",
       "      <td>2021-08-25 16:46</td>\n",
       "      <td>False</td>\n",
       "    </tr>\n",
       "    <tr>\n",
       "      <th>7</th>\n",
       "      <td>2091110</td>\n",
       "      <td>160</td>\n",
       "      <td>219</td>\n",
       "      <td>302.06</td>\n",
       "      <td>2.73</td>\n",
       "      <td>93.699980</td>\n",
       "      <td>25.939999</td>\n",
       "      <td>369.819950</td>\n",
       "      <td>2021-08-25 16:46</td>\n",
       "      <td>False</td>\n",
       "    </tr>\n",
       "    <tr>\n",
       "      <th>8</th>\n",
       "      <td>2091111</td>\n",
       "      <td>155</td>\n",
       "      <td>199</td>\n",
       "      <td>1218.63</td>\n",
       "      <td>5.37</td>\n",
       "      <td>184.010060</td>\n",
       "      <td>3.160000</td>\n",
       "      <td>1399.479900</td>\n",
       "      <td>2021-08-25 16:47</td>\n",
       "      <td>False</td>\n",
       "    </tr>\n",
       "    <tr>\n",
       "      <th>9</th>\n",
       "      <td>2091112</td>\n",
       "      <td>129</td>\n",
       "      <td>161</td>\n",
       "      <td>236.01</td>\n",
       "      <td>2.09</td>\n",
       "      <td>64.040000</td>\n",
       "      <td>12.020001</td>\n",
       "      <td>288.030060</td>\n",
       "      <td>2021-08-25 16:47</td>\n",
       "      <td>False</td>\n",
       "    </tr>\n",
       "  </tbody>\n",
       "</table>\n",
       "</div>"
      ],
      "text/plain": [
       "        ID  gamers  skins    money  ticks   peopleWin  peopleLost  \\\n",
       "0  2091103     144    174   283.57  14.30  125.459984    0.250000   \n",
       "1  2091104     134    182   279.30   1.14    5.810003  177.040000   \n",
       "2  2091105     139    179   282.87   3.91  125.010000    5.960000   \n",
       "3  2091106     139    169   271.44   1.15    6.900001  181.850000   \n",
       "4  2091107     142    177   304.88   1.00    0.000000  304.880000   \n",
       "5  2091108     161    204   463.81   2.46  118.959984   15.450000   \n",
       "6  2091109     157    190   342.79   1.45   36.499992  119.429990   \n",
       "7  2091110     160    219   302.06   2.73   93.699980   25.939999   \n",
       "8  2091111     155    199  1218.63   5.37  184.010060    3.160000   \n",
       "9  2091112     129    161   236.01   2.09   64.040000   12.020001   \n",
       "\n",
       "        outpay              time  moderator  \n",
       "0   408.780000  2021-08-25 16:43      False  \n",
       "1   108.070010  2021-08-25 16:44      False  \n",
       "2   401.919920  2021-08-25 16:44      False  \n",
       "3    96.490005  2021-08-25 16:45      False  \n",
       "4     0.000000  2021-08-25 16:45      False  \n",
       "5   567.320100  2021-08-25 16:45      False  \n",
       "6   259.860020  2021-08-25 16:46      False  \n",
       "7   369.819950  2021-08-25 16:46      False  \n",
       "8  1399.479900  2021-08-25 16:47      False  \n",
       "9   288.030060  2021-08-25 16:47      False  "
      ]
     },
     "execution_count": 5,
     "metadata": {},
     "output_type": "execute_result"
    }
   ],
   "source": [
    "data.head(10)"
   ]
  },
  {
   "cell_type": "markdown",
   "id": "6f371216",
   "metadata": {},
   "source": [
    "### Top 10 Rows of the Dataset"
   ]
  },
  {
   "cell_type": "code",
   "execution_count": 6,
   "id": "ff936ae7",
   "metadata": {
    "scrolled": true
   },
   "outputs": [
    {
     "data": {
      "text/html": [
       "<div>\n",
       "<style scoped>\n",
       "    .dataframe tbody tr th:only-of-type {\n",
       "        vertical-align: middle;\n",
       "    }\n",
       "\n",
       "    .dataframe tbody tr th {\n",
       "        vertical-align: top;\n",
       "    }\n",
       "\n",
       "    .dataframe thead th {\n",
       "        text-align: right;\n",
       "    }\n",
       "</style>\n",
       "<table border=\"1\" class=\"dataframe\">\n",
       "  <thead>\n",
       "    <tr style=\"text-align: right;\">\n",
       "      <th></th>\n",
       "      <th>ID</th>\n",
       "      <th>gamers</th>\n",
       "      <th>skins</th>\n",
       "      <th>money</th>\n",
       "      <th>ticks</th>\n",
       "      <th>peopleWin</th>\n",
       "      <th>peopleLost</th>\n",
       "      <th>outpay</th>\n",
       "      <th>time</th>\n",
       "      <th>moderator</th>\n",
       "    </tr>\n",
       "  </thead>\n",
       "  <tbody>\n",
       "    <tr>\n",
       "      <th>55565</th>\n",
       "      <td>2146668</td>\n",
       "      <td>117</td>\n",
       "      <td>144</td>\n",
       "      <td>273.38998</td>\n",
       "      <td>1.45</td>\n",
       "      <td>30.950006</td>\n",
       "      <td>80.020020</td>\n",
       "      <td>409.58000</td>\n",
       "      <td>2021-09-14 21:58</td>\n",
       "      <td>False</td>\n",
       "    </tr>\n",
       "    <tr>\n",
       "      <th>55566</th>\n",
       "      <td>2146669</td>\n",
       "      <td>123</td>\n",
       "      <td>151</td>\n",
       "      <td>303.80005</td>\n",
       "      <td>3.83</td>\n",
       "      <td>108.559975</td>\n",
       "      <td>2.780000</td>\n",
       "      <td>350.65994</td>\n",
       "      <td>2021-09-14 21:59</td>\n",
       "      <td>False</td>\n",
       "    </tr>\n",
       "    <tr>\n",
       "      <th>55567</th>\n",
       "      <td>2146670</td>\n",
       "      <td>122</td>\n",
       "      <td>161</td>\n",
       "      <td>248.47993</td>\n",
       "      <td>7.64</td>\n",
       "      <td>102.179990</td>\n",
       "      <td>0.000000</td>\n",
       "      <td>341.58000</td>\n",
       "      <td>2021-09-14 22:00</td>\n",
       "      <td>False</td>\n",
       "    </tr>\n",
       "    <tr>\n",
       "      <th>55568</th>\n",
       "      <td>2146671</td>\n",
       "      <td>121</td>\n",
       "      <td>155</td>\n",
       "      <td>248.04001</td>\n",
       "      <td>4.85</td>\n",
       "      <td>95.310005</td>\n",
       "      <td>1.770000</td>\n",
       "      <td>287.48000</td>\n",
       "      <td>2021-09-14 22:00</td>\n",
       "      <td>False</td>\n",
       "    </tr>\n",
       "    <tr>\n",
       "      <th>55569</th>\n",
       "      <td>2146672</td>\n",
       "      <td>118</td>\n",
       "      <td>148</td>\n",
       "      <td>224.12000</td>\n",
       "      <td>2.78</td>\n",
       "      <td>74.799980</td>\n",
       "      <td>11.440000</td>\n",
       "      <td>256.69003</td>\n",
       "      <td>2021-09-14 22:01</td>\n",
       "      <td>False</td>\n",
       "    </tr>\n",
       "    <tr>\n",
       "      <th>55570</th>\n",
       "      <td>2146673</td>\n",
       "      <td>114</td>\n",
       "      <td>146</td>\n",
       "      <td>246.68002</td>\n",
       "      <td>1.74</td>\n",
       "      <td>46.410004</td>\n",
       "      <td>36.400000</td>\n",
       "      <td>226.02002</td>\n",
       "      <td>2021-09-14 22:01</td>\n",
       "      <td>False</td>\n",
       "    </tr>\n",
       "    <tr>\n",
       "      <th>55571</th>\n",
       "      <td>2146674</td>\n",
       "      <td>106</td>\n",
       "      <td>131</td>\n",
       "      <td>190.87997</td>\n",
       "      <td>2.35</td>\n",
       "      <td>49.629974</td>\n",
       "      <td>14.489999</td>\n",
       "      <td>156.73001</td>\n",
       "      <td>2021-09-14 22:02</td>\n",
       "      <td>False</td>\n",
       "    </tr>\n",
       "    <tr>\n",
       "      <th>55572</th>\n",
       "      <td>2146675</td>\n",
       "      <td>110</td>\n",
       "      <td>138</td>\n",
       "      <td>209.81992</td>\n",
       "      <td>1.40</td>\n",
       "      <td>23.020000</td>\n",
       "      <td>76.109985</td>\n",
       "      <td>219.81998</td>\n",
       "      <td>2021-09-14 22:02</td>\n",
       "      <td>False</td>\n",
       "    </tr>\n",
       "    <tr>\n",
       "      <th>55573</th>\n",
       "      <td>2146676</td>\n",
       "      <td>101</td>\n",
       "      <td>128</td>\n",
       "      <td>165.06999</td>\n",
       "      <td>5.76</td>\n",
       "      <td>56.540000</td>\n",
       "      <td>1.790000</td>\n",
       "      <td>202.73003</td>\n",
       "      <td>2021-09-14 22:03</td>\n",
       "      <td>False</td>\n",
       "    </tr>\n",
       "    <tr>\n",
       "      <th>55574</th>\n",
       "      <td>2146677</td>\n",
       "      <td>109</td>\n",
       "      <td>143</td>\n",
       "      <td>197.73000</td>\n",
       "      <td>1.66</td>\n",
       "      <td>40.779995</td>\n",
       "      <td>35.780000</td>\n",
       "      <td>263.90990</td>\n",
       "      <td>2021-09-14 22:03</td>\n",
       "      <td>False</td>\n",
       "    </tr>\n",
       "  </tbody>\n",
       "</table>\n",
       "</div>"
      ],
      "text/plain": [
       "            ID  gamers  skins      money  ticks   peopleWin  peopleLost  \\\n",
       "55565  2146668     117    144  273.38998   1.45   30.950006   80.020020   \n",
       "55566  2146669     123    151  303.80005   3.83  108.559975    2.780000   \n",
       "55567  2146670     122    161  248.47993   7.64  102.179990    0.000000   \n",
       "55568  2146671     121    155  248.04001   4.85   95.310005    1.770000   \n",
       "55569  2146672     118    148  224.12000   2.78   74.799980   11.440000   \n",
       "55570  2146673     114    146  246.68002   1.74   46.410004   36.400000   \n",
       "55571  2146674     106    131  190.87997   2.35   49.629974   14.489999   \n",
       "55572  2146675     110    138  209.81992   1.40   23.020000   76.109985   \n",
       "55573  2146676     101    128  165.06999   5.76   56.540000    1.790000   \n",
       "55574  2146677     109    143  197.73000   1.66   40.779995   35.780000   \n",
       "\n",
       "          outpay              time  moderator  \n",
       "55565  409.58000  2021-09-14 21:58      False  \n",
       "55566  350.65994  2021-09-14 21:59      False  \n",
       "55567  341.58000  2021-09-14 22:00      False  \n",
       "55568  287.48000  2021-09-14 22:00      False  \n",
       "55569  256.69003  2021-09-14 22:01      False  \n",
       "55570  226.02002  2021-09-14 22:01      False  \n",
       "55571  156.73001  2021-09-14 22:02      False  \n",
       "55572  219.81998  2021-09-14 22:02      False  \n",
       "55573  202.73003  2021-09-14 22:03      False  \n",
       "55574  263.90990  2021-09-14 22:03      False  "
      ]
     },
     "execution_count": 6,
     "metadata": {},
     "output_type": "execute_result"
    }
   ],
   "source": [
    "data.tail(10)"
   ]
  },
  {
   "cell_type": "markdown",
   "id": "bb7f0290",
   "metadata": {},
   "source": [
    "### Bottom 10 Rows of the Dataset"
   ]
  },
  {
   "cell_type": "code",
   "execution_count": 7,
   "id": "37b5bafe",
   "metadata": {
    "scrolled": true
   },
   "outputs": [
    {
     "data": {
      "text/html": [
       "<div>\n",
       "<style scoped>\n",
       "    .dataframe tbody tr th:only-of-type {\n",
       "        vertical-align: middle;\n",
       "    }\n",
       "\n",
       "    .dataframe tbody tr th {\n",
       "        vertical-align: top;\n",
       "    }\n",
       "\n",
       "    .dataframe thead th {\n",
       "        text-align: right;\n",
       "    }\n",
       "</style>\n",
       "<table border=\"1\" class=\"dataframe\">\n",
       "  <thead>\n",
       "    <tr style=\"text-align: right;\">\n",
       "      <th></th>\n",
       "      <th>ID</th>\n",
       "      <th>gamers</th>\n",
       "      <th>skins</th>\n",
       "      <th>money</th>\n",
       "      <th>ticks</th>\n",
       "      <th>peopleWin</th>\n",
       "      <th>peopleLost</th>\n",
       "      <th>outpay</th>\n",
       "    </tr>\n",
       "  </thead>\n",
       "  <tbody>\n",
       "    <tr>\n",
       "      <th>count</th>\n",
       "      <td>5.557500e+04</td>\n",
       "      <td>55575.000000</td>\n",
       "      <td>55575.000000</td>\n",
       "      <td>55575.000000</td>\n",
       "      <td>55575.000000</td>\n",
       "      <td>55575.000000</td>\n",
       "      <td>55575.000000</td>\n",
       "      <td>55575.000000</td>\n",
       "    </tr>\n",
       "    <tr>\n",
       "      <th>mean</th>\n",
       "      <td>2.118890e+06</td>\n",
       "      <td>123.028754</td>\n",
       "      <td>158.333495</td>\n",
       "      <td>285.020029</td>\n",
       "      <td>12.031466</td>\n",
       "      <td>66.642813</td>\n",
       "      <td>79.308366</td>\n",
       "      <td>272.350410</td>\n",
       "    </tr>\n",
       "    <tr>\n",
       "      <th>std</th>\n",
       "      <td>1.604326e+04</td>\n",
       "      <td>26.145191</td>\n",
       "      <td>30.969729</td>\n",
       "      <td>195.503233</td>\n",
       "      <td>240.496913</td>\n",
       "      <td>116.713177</td>\n",
       "      <td>186.749071</td>\n",
       "      <td>221.625618</td>\n",
       "    </tr>\n",
       "    <tr>\n",
       "      <th>min</th>\n",
       "      <td>2.091103e+06</td>\n",
       "      <td>0.000000</td>\n",
       "      <td>0.000000</td>\n",
       "      <td>0.000000</td>\n",
       "      <td>1.000000</td>\n",
       "      <td>0.000000</td>\n",
       "      <td>0.000000</td>\n",
       "      <td>0.000000</td>\n",
       "    </tr>\n",
       "    <tr>\n",
       "      <th>25%</th>\n",
       "      <td>2.104996e+06</td>\n",
       "      <td>102.000000</td>\n",
       "      <td>135.000000</td>\n",
       "      <td>215.475005</td>\n",
       "      <td>1.300000</td>\n",
       "      <td>19.780007</td>\n",
       "      <td>3.150000</td>\n",
       "      <td>158.399975</td>\n",
       "    </tr>\n",
       "    <tr>\n",
       "      <th>50%</th>\n",
       "      <td>2.118890e+06</td>\n",
       "      <td>121.000000</td>\n",
       "      <td>155.000000</td>\n",
       "      <td>255.010030</td>\n",
       "      <td>1.950000</td>\n",
       "      <td>58.359997</td>\n",
       "      <td>30.670000</td>\n",
       "      <td>266.610050</td>\n",
       "    </tr>\n",
       "    <tr>\n",
       "      <th>75%</th>\n",
       "      <td>2.132784e+06</td>\n",
       "      <td>137.000000</td>\n",
       "      <td>175.000000</td>\n",
       "      <td>308.409940</td>\n",
       "      <td>3.890000</td>\n",
       "      <td>97.999977</td>\n",
       "      <td>111.685007</td>\n",
       "      <td>361.935070</td>\n",
       "    </tr>\n",
       "    <tr>\n",
       "      <th>max</th>\n",
       "      <td>2.146677e+06</td>\n",
       "      <td>491.000000</td>\n",
       "      <td>552.000000</td>\n",
       "      <td>5696.327000</td>\n",
       "      <td>23522.650000</td>\n",
       "      <td>21681.592000</td>\n",
       "      <td>5696.327000</td>\n",
       "      <td>25943.201000</td>\n",
       "    </tr>\n",
       "  </tbody>\n",
       "</table>\n",
       "</div>"
      ],
      "text/plain": [
       "                 ID        gamers         skins         money         ticks  \\\n",
       "count  5.557500e+04  55575.000000  55575.000000  55575.000000  55575.000000   \n",
       "mean   2.118890e+06    123.028754    158.333495    285.020029     12.031466   \n",
       "std    1.604326e+04     26.145191     30.969729    195.503233    240.496913   \n",
       "min    2.091103e+06      0.000000      0.000000      0.000000      1.000000   \n",
       "25%    2.104996e+06    102.000000    135.000000    215.475005      1.300000   \n",
       "50%    2.118890e+06    121.000000    155.000000    255.010030      1.950000   \n",
       "75%    2.132784e+06    137.000000    175.000000    308.409940      3.890000   \n",
       "max    2.146677e+06    491.000000    552.000000   5696.327000  23522.650000   \n",
       "\n",
       "          peopleWin    peopleLost        outpay  \n",
       "count  55575.000000  55575.000000  55575.000000  \n",
       "mean      66.642813     79.308366    272.350410  \n",
       "std      116.713177    186.749071    221.625618  \n",
       "min        0.000000      0.000000      0.000000  \n",
       "25%       19.780007      3.150000    158.399975  \n",
       "50%       58.359997     30.670000    266.610050  \n",
       "75%       97.999977    111.685007    361.935070  \n",
       "max    21681.592000   5696.327000  25943.201000  "
      ]
     },
     "execution_count": 7,
     "metadata": {},
     "output_type": "execute_result"
    }
   ],
   "source": [
    "data.describe()"
   ]
  },
  {
   "cell_type": "markdown",
   "id": "c805ad00",
   "metadata": {},
   "source": [
    "### Describes the data in the DataFrame.\n",
    "###For numerical data it shows : count, mean, std, min, 25%, 50%, 75%, max "
   ]
  },
  {
   "cell_type": "code",
   "execution_count": 8,
   "id": "632d5747",
   "metadata": {},
   "outputs": [
    {
     "data": {
      "text/plain": [
       "(55575, 10)"
      ]
     },
     "execution_count": 8,
     "metadata": {},
     "output_type": "execute_result"
    }
   ],
   "source": [
    "data.shape"
   ]
  },
  {
   "cell_type": "markdown",
   "id": "0f521ddb",
   "metadata": {},
   "source": [
    "### Shape function gives the number of rows and columns in the Dataset\n",
    "#### So we have 55575 rows and 10 columns in the dataset"
   ]
  },
  {
   "cell_type": "code",
   "execution_count": 9,
   "id": "530c3912",
   "metadata": {},
   "outputs": [
    {
     "data": {
      "text/plain": [
       "ID              int64\n",
       "gamers          int64\n",
       "skins           int64\n",
       "money         float64\n",
       "ticks         float64\n",
       "peopleWin     float64\n",
       "peopleLost    float64\n",
       "outpay        float64\n",
       "time           object\n",
       "moderator        bool\n",
       "dtype: object"
      ]
     },
     "execution_count": 9,
     "metadata": {},
     "output_type": "execute_result"
    }
   ],
   "source": [
    "data.dtypes"
   ]
  },
  {
   "cell_type": "markdown",
   "id": "4b866796",
   "metadata": {},
   "source": [
    "#### DataTypes of all the columns\n",
    "#8 columns are of numerical data types and 2 are of object and bool"
   ]
  },
  {
   "cell_type": "code",
   "execution_count": 10,
   "id": "82157d20",
   "metadata": {
    "scrolled": false
   },
   "outputs": [
    {
     "data": {
      "text/plain": [
       "ID             0\n",
       "gamers         0\n",
       "skins          0\n",
       "money          0\n",
       "ticks          0\n",
       "peopleWin      0\n",
       "peopleLost     0\n",
       "outpay         0\n",
       "time          10\n",
       "moderator      0\n",
       "dtype: int64"
      ]
     },
     "execution_count": 10,
     "metadata": {},
     "output_type": "execute_result"
    }
   ],
   "source": [
    "data.isnull().sum()"
   ]
  },
  {
   "cell_type": "code",
   "execution_count": 11,
   "id": "c9686cb2",
   "metadata": {},
   "outputs": [],
   "source": [
    "#There are 10 rows in time column, which have null values."
   ]
  },
  {
   "cell_type": "code",
   "execution_count": 12,
   "id": "bcf08708",
   "metadata": {},
   "outputs": [
    {
     "name": "stdout",
     "output_type": "stream",
     "text": [
      "<class 'pandas.core.frame.DataFrame'>\n",
      "RangeIndex: 55575 entries, 0 to 55574\n",
      "Data columns (total 10 columns):\n",
      " #   Column      Non-Null Count  Dtype  \n",
      "---  ------      --------------  -----  \n",
      " 0   ID          55575 non-null  int64  \n",
      " 1   gamers      55575 non-null  int64  \n",
      " 2   skins       55575 non-null  int64  \n",
      " 3   money       55575 non-null  float64\n",
      " 4   ticks       55575 non-null  float64\n",
      " 5   peopleWin   55575 non-null  float64\n",
      " 6   peopleLost  55575 non-null  float64\n",
      " 7   outpay      55575 non-null  float64\n",
      " 8   time        55565 non-null  object \n",
      " 9   moderator   55575 non-null  bool   \n",
      "dtypes: bool(1), float64(5), int64(3), object(1)\n",
      "memory usage: 3.9+ MB\n"
     ]
    }
   ],
   "source": [
    "data.info()"
   ]
  },
  {
   "cell_type": "markdown",
   "id": "afee2960",
   "metadata": {},
   "source": [
    "### from the info() method we get the information of the dataset that the columns have null values or not and also the datatype.So according to that the operations will be performed on the columns."
   ]
  },
  {
   "cell_type": "code",
   "execution_count": 13,
   "id": "ae6e7f45",
   "metadata": {},
   "outputs": [],
   "source": [
    "percent_missing = data.isnull().sum() * 100 / len(data)\n",
    "missing_value_data = pd.DataFrame({'column_name': data.columns,'percent_missing': percent_missing})"
   ]
  },
  {
   "cell_type": "code",
   "execution_count": 14,
   "id": "b303ab59",
   "metadata": {},
   "outputs": [],
   "source": [
    "missing_value_data.sort_values('percent_missing', inplace=True)"
   ]
  },
  {
   "cell_type": "code",
   "execution_count": 15,
   "id": "53e32a87",
   "metadata": {},
   "outputs": [
    {
     "data": {
      "text/html": [
       "<div>\n",
       "<style scoped>\n",
       "    .dataframe tbody tr th:only-of-type {\n",
       "        vertical-align: middle;\n",
       "    }\n",
       "\n",
       "    .dataframe tbody tr th {\n",
       "        vertical-align: top;\n",
       "    }\n",
       "\n",
       "    .dataframe thead th {\n",
       "        text-align: right;\n",
       "    }\n",
       "</style>\n",
       "<table border=\"1\" class=\"dataframe\">\n",
       "  <thead>\n",
       "    <tr style=\"text-align: right;\">\n",
       "      <th></th>\n",
       "      <th>column_name</th>\n",
       "      <th>percent_missing</th>\n",
       "    </tr>\n",
       "  </thead>\n",
       "  <tbody>\n",
       "    <tr>\n",
       "      <th>ID</th>\n",
       "      <td>ID</td>\n",
       "      <td>0.000000</td>\n",
       "    </tr>\n",
       "    <tr>\n",
       "      <th>gamers</th>\n",
       "      <td>gamers</td>\n",
       "      <td>0.000000</td>\n",
       "    </tr>\n",
       "    <tr>\n",
       "      <th>skins</th>\n",
       "      <td>skins</td>\n",
       "      <td>0.000000</td>\n",
       "    </tr>\n",
       "    <tr>\n",
       "      <th>money</th>\n",
       "      <td>money</td>\n",
       "      <td>0.000000</td>\n",
       "    </tr>\n",
       "    <tr>\n",
       "      <th>ticks</th>\n",
       "      <td>ticks</td>\n",
       "      <td>0.000000</td>\n",
       "    </tr>\n",
       "    <tr>\n",
       "      <th>peopleWin</th>\n",
       "      <td>peopleWin</td>\n",
       "      <td>0.000000</td>\n",
       "    </tr>\n",
       "    <tr>\n",
       "      <th>peopleLost</th>\n",
       "      <td>peopleLost</td>\n",
       "      <td>0.000000</td>\n",
       "    </tr>\n",
       "    <tr>\n",
       "      <th>outpay</th>\n",
       "      <td>outpay</td>\n",
       "      <td>0.000000</td>\n",
       "    </tr>\n",
       "    <tr>\n",
       "      <th>moderator</th>\n",
       "      <td>moderator</td>\n",
       "      <td>0.000000</td>\n",
       "    </tr>\n",
       "    <tr>\n",
       "      <th>time</th>\n",
       "      <td>time</td>\n",
       "      <td>0.017994</td>\n",
       "    </tr>\n",
       "  </tbody>\n",
       "</table>\n",
       "</div>"
      ],
      "text/plain": [
       "           column_name  percent_missing\n",
       "ID                  ID         0.000000\n",
       "gamers          gamers         0.000000\n",
       "skins            skins         0.000000\n",
       "money            money         0.000000\n",
       "ticks            ticks         0.000000\n",
       "peopleWin    peopleWin         0.000000\n",
       "peopleLost  peopleLost         0.000000\n",
       "outpay          outpay         0.000000\n",
       "moderator    moderator         0.000000\n",
       "time              time         0.017994"
      ]
     },
     "execution_count": 15,
     "metadata": {},
     "output_type": "execute_result"
    }
   ],
   "source": [
    "missing_value_data"
   ]
  },
  {
   "cell_type": "code",
   "execution_count": 16,
   "id": "f7972e8a",
   "metadata": {},
   "outputs": [
    {
     "data": {
      "text/plain": [
       "<function matplotlib.pyplot.show(close=None, block=None)>"
      ]
     },
     "execution_count": 16,
     "metadata": {},
     "output_type": "execute_result"
    },
    {
     "data": {
      "image/png": "[encoded data removed]",
      "text/plain": [
       "<Figure size 432x288 with 1 Axes>"
      ]
     },
     "metadata": {
      "needs_background": "light"
     },
     "output_type": "display_data"
    }
   ],
   "source": [
    "plt.bar(missing_value_data.column_name, missing_value_data.percent_missing)\n",
    "plt.xticks(rotation=30, ha='right')\n",
    "plt.show"
   ]
  },
  {
   "cell_type": "markdown",
   "id": "1a81e9be",
   "metadata": {},
   "source": [
    "### from this graph we came to know that the time column has the maximum null values.The highest percentage of null values in the dataset."
   ]
  },
  {
   "cell_type": "code",
   "execution_count": 17,
   "id": "35269039",
   "metadata": {},
   "outputs": [
    {
     "name": "stdout",
     "output_type": "stream",
     "text": [
      "Minimum amt: 0.0\n",
      "Maximum amt: 5696.327\n"
     ]
    },
    {
     "data": {
      "image/png": "[encoded data removed]",
      "text/plain": [
       "<Figure size 432x288 with 1 Axes>"
      ]
     },
     "metadata": {
      "needs_background": "light"
     },
     "output_type": "display_data"
    }
   ],
   "source": [
    "fig, ax = plt.subplots()\n",
    "sns.histplot(x='money', data=data)\n",
    "print(\"Minimum amt:\",data['money'].min())\n",
    "print(\"Maximum amt:\",data['money'].max())\n",
    "ax.set_xlim(0, 2000)\n",
    "ax.set_ylim(0, 2000)\n",
    "\n",
    "plt.show()"
   ]
  },
  {
   "cell_type": "markdown",
   "id": "ae4c2fcf",
   "metadata": {},
   "source": [
    "### The maximum and minimum amount of money(dollar) bet by the players in the particular game is 0.0 and 5696.327 respectively."
   ]
  },
  {
   "cell_type": "code",
   "execution_count": 18,
   "id": "6e4c280d",
   "metadata": {},
   "outputs": [
    {
     "data": {
      "image/png": "[encoded data removed]",
      "text/plain": [
       "<Figure size 432x288 with 1 Axes>"
      ]
     },
     "metadata": {},
     "output_type": "display_data"
    }
   ],
   "source": [
    "# Let's check the games with moderators and without moderators\n",
    "moder = data.moderator[data.moderator==True].count()\n",
    "nomoder = data.moderator[data.moderator==False].count()\n",
    "\n",
    "moder_per = moder/(moder + nomoder)*100\n",
    "nomoder_per = nomoder/(moder + nomoder)*100\n",
    "\n",
    "fig = plt.figure()\n",
    "colors1 = ['tab:blue', 'tab:pink']\n",
    "mylabels = [\"With\", \"Without\"]\n",
    "plt.pie([moder_per,nomoder_per],\n",
    "        radius=1.2,\n",
    "       pctdistance = 1.2, \n",
    "       autopct = '% .1f',\n",
    "       shadow = True,\n",
    "       textprops = {'color' : 'k', 'fontsize' : '12', 'ha' : 'center'},\n",
    "       colors = colors1)\n",
    "plt.legend(mylabels)\n",
    "fig.suptitle('Percent of games with and without moderators', fontsize=20)\n",
    "\n",
    "plt.show()"
   ]
  },
  {
   "cell_type": "markdown",
   "id": "5d78b6e2",
   "metadata": {},
   "source": [
    "### There are only few number of games in the dataset which are being played with moderators, so we can ignore the moderators involvement."
   ]
  },
  {
   "cell_type": "code",
   "execution_count": 19,
   "id": "72e9a70d",
   "metadata": {},
   "outputs": [
    {
     "data": {
      "image/png": "[encoded data removed]",
      "text/plain": [
       "<Figure size 432x288 with 1 Axes>"
      ]
     },
     "metadata": {
      "needs_background": "light"
     },
     "output_type": "display_data"
    }
   ],
   "source": [
    "# Now we want to see usual bet(money) with and without moderators\n",
    "money_mod = data['money'][data['moderator']==True].mean()\n",
    "money_nomod = data['money'][data['moderator']==False].mean()\n",
    "\n",
    "x = np.arange(2)\n",
    "plt.bar(x, height=[money_mod, money_nomod], color=['red', 'blue'])\n",
    "plt.xticks(x, ['With','Without'])\n",
    "plt.title(\"Mean amount of money in bet with and without moderators\")\n",
    "plt.show()"
   ]
  },
  {
   "cell_type": "code",
   "execution_count": 20,
   "id": "13a1035a",
   "metadata": {},
   "outputs": [],
   "source": [
    "#"
   ]
  },
  {
   "cell_type": "code",
   "execution_count": 21,
   "id": "8fdef7fa",
   "metadata": {},
   "outputs": [
    {
     "data": {
      "image/png": "[encoded data removed]",
      "text/plain": [
       "<Figure size 432x288 with 1 Axes>"
      ]
     },
     "metadata": {
      "needs_background": "light"
     },
     "output_type": "display_data"
    }
   ],
   "source": [
    "# Let's check how much casino earned to 50,000 games\n",
    "data['Earned'] = data['money'][data['moderator']==False] - data['outpay'][data['moderator']==False]\n",
    "plt.plot(np.arange(len(data['Earned'])), data['Earned'].cumsum())\n",
    "plt.xlabel('Games')\n",
    "plt.ylabel('Earnings of casino (USD)')\n",
    "plt.show()"
   ]
  },
  {
   "cell_type": "code",
   "execution_count": 23,
   "id": "42fd841d",
   "metadata": {},
   "outputs": [
    {
     "data": {
      "image/png": "[encoded data removed]",
      "text/plain": [
       "<Figure size 432x288 with 1 Axes>"
      ]
     },
     "metadata": {
      "needs_background": "light"
     },
     "output_type": "display_data"
    }
   ],
   "source": [
    "# Let's check whole betted money\n",
    "plt.plot(np.arange(len(data['money'])), data['money'])\n",
    "plt.xlabel('Games')\n",
    "plt.ylabel('Whole money in bet for the game (USD)')\n",
    "\n",
    "plt.show()"
   ]
  },
  {
   "cell_type": "code",
   "execution_count": 24,
   "id": "94887777",
   "metadata": {},
   "outputs": [
    {
     "data": {
      "image/png": "[encoded data removed]",
      "text/plain": [
       "<Figure size 432x288 with 1 Axes>"
      ]
     },
     "metadata": {
      "needs_background": "light"
     },
     "output_type": "display_data"
    }
   ],
   "source": [
    "# Now let's see games only without moderators\n",
    "plt.plot(np.arange(len(data['money'][data['moderator']==False])), data['money'][data['moderator']==False])\n",
    "plt.xlabel('Games')\n",
    "plt.ylabel('Whole money in bet for the game')\n",
    "plt.show()"
   ]
  },
  {
   "cell_type": "code",
   "execution_count": 27,
   "id": "4892b883",
   "metadata": {},
   "outputs": [
    {
     "name": "stderr",
     "output_type": "stream",
     "text": [
      "C:\\Users\\hp\\AppData\\Local\\Temp/ipykernel_11876/2096261515.py:13: SettingWithCopyWarning: \n",
      "A value is trying to be set on a copy of a slice from a DataFrame\n",
      "\n",
      "See the caveats in the documentation: https://pandas.pydata.org/pandas-docs/stable/user_guide/indexing.html#returning-a-view-versus-a-copy\n",
      "  data['color'][i] = 4\n",
      "C:\\Users\\hp\\AppData\\Local\\Temp/ipykernel_11876/2096261515.py:5: SettingWithCopyWarning: \n",
      "A value is trying to be set on a copy of a slice from a DataFrame\n",
      "\n",
      "See the caveats in the documentation: https://pandas.pydata.org/pandas-docs/stable/user_guide/indexing.html#returning-a-view-versus-a-copy\n",
      "  data['color'][i] = 0\n",
      "C:\\Users\\hp\\AppData\\Local\\Temp/ipykernel_11876/2096261515.py:9: SettingWithCopyWarning: \n",
      "A value is trying to be set on a copy of a slice from a DataFrame\n",
      "\n",
      "See the caveats in the documentation: https://pandas.pydata.org/pandas-docs/stable/user_guide/indexing.html#returning-a-view-versus-a-copy\n",
      "  data['color'][i] = 2\n",
      "C:\\Users\\hp\\AppData\\Local\\Temp/ipykernel_11876/2096261515.py:7: SettingWithCopyWarning: \n",
      "A value is trying to be set on a copy of a slice from a DataFrame\n",
      "\n",
      "See the caveats in the documentation: https://pandas.pydata.org/pandas-docs/stable/user_guide/indexing.html#returning-a-view-versus-a-copy\n",
      "  data['color'][i] = 1\n",
      "C:\\Users\\hp\\AppData\\Local\\Temp/ipykernel_11876/2096261515.py:11: SettingWithCopyWarning: \n",
      "A value is trying to be set on a copy of a slice from a DataFrame\n",
      "\n",
      "See the caveats in the documentation: https://pandas.pydata.org/pandas-docs/stable/user_guide/indexing.html#returning-a-view-versus-a-copy\n",
      "  data['color'][i] = 3\n",
      "C:\\Users\\hp\\AppData\\Local\\Temp/ipykernel_11876/2096261515.py:15: SettingWithCopyWarning: \n",
      "A value is trying to be set on a copy of a slice from a DataFrame\n",
      "\n",
      "See the caveats in the documentation: https://pandas.pydata.org/pandas-docs/stable/user_guide/indexing.html#returning-a-view-versus-a-copy\n",
      "  data['color'][i] = 5\n"
     ]
    }
   ],
   "source": [
    "# Divide ticks to colors (cat) (0,1,2,3,4,5)\n",
    "data['color'] = 0\n",
    "for i in range(0, len(data['time'])):\n",
    "    if data['ticks'][i] < 1.2: # Casino earn a lot\n",
    "        data['color'][i] = 0\n",
    "    elif data['ticks'][i] < 2: # Casino earn a bit\n",
    "        data['color'][i] = 1\n",
    "    elif data['ticks'][i] < 4: # 50/50\n",
    "        data['color'][i] = 2\n",
    "    elif data['ticks'][i] < 8: # Casino lose a bit\n",
    "        data['color'][i] = 3\n",
    "    elif data['ticks'][i] < 25: # Casino lose a lot\n",
    "        data['color'][i] = 4\n",
    "    else:                     # All people win\n",
    "        data['color'][i] = 5"
   ]
  },
  {
   "cell_type": "code",
   "execution_count": 26,
   "id": "816be47b",
   "metadata": {},
   "outputs": [
    {
     "name": "stderr",
     "output_type": "stream",
     "text": [
      "C:\\Users\\hp\\AppData\\Local\\Temp/ipykernel_11876/200789094.py:13: SettingWithCopyWarning: \n",
      "A value is trying to be set on a copy of a slice from a DataFrame\n",
      "\n",
      "See the caveats in the documentation: https://pandas.pydata.org/pandas-docs/stable/user_guide/indexing.html#returning-a-view-versus-a-copy\n",
      "  data['color'][i] = 4\n",
      "C:\\Users\\hp\\AppData\\Local\\Temp/ipykernel_11876/200789094.py:5: SettingWithCopyWarning: \n",
      "A value is trying to be set on a copy of a slice from a DataFrame\n",
      "\n",
      "See the caveats in the documentation: https://pandas.pydata.org/pandas-docs/stable/user_guide/indexing.html#returning-a-view-versus-a-copy\n",
      "  data['color'][i] = 0\n",
      "C:\\Users\\hp\\AppData\\Local\\Temp/ipykernel_11876/200789094.py:9: SettingWithCopyWarning: \n",
      "A value is trying to be set on a copy of a slice from a DataFrame\n",
      "\n",
      "See the caveats in the documentation: https://pandas.pydata.org/pandas-docs/stable/user_guide/indexing.html#returning-a-view-versus-a-copy\n",
      "  data['color'][i] = 2\n",
      "C:\\Users\\hp\\AppData\\Local\\Temp/ipykernel_11876/200789094.py:7: SettingWithCopyWarning: \n",
      "A value is trying to be set on a copy of a slice from a DataFrame\n",
      "\n",
      "See the caveats in the documentation: https://pandas.pydata.org/pandas-docs/stable/user_guide/indexing.html#returning-a-view-versus-a-copy\n",
      "  data['color'][i] = 1\n",
      "C:\\Users\\hp\\AppData\\Local\\Temp/ipykernel_11876/200789094.py:11: SettingWithCopyWarning: \n",
      "A value is trying to be set on a copy of a slice from a DataFrame\n",
      "\n",
      "See the caveats in the documentation: https://pandas.pydata.org/pandas-docs/stable/user_guide/indexing.html#returning-a-view-versus-a-copy\n",
      "  data['color'][i] = 3\n",
      "C:\\Users\\hp\\AppData\\Local\\Temp/ipykernel_11876/200789094.py:15: SettingWithCopyWarning: \n",
      "A value is trying to be set on a copy of a slice from a DataFrame\n",
      "\n",
      "See the caveats in the documentation: https://pandas.pydata.org/pandas-docs/stable/user_guide/indexing.html#returning-a-view-versus-a-copy\n",
      "  data['color'][i] = 5\n"
     ]
    },
    {
     "data": {
      "image/png": "[encoded data removed]",
      "text/plain": [
       "<Figure size 432x288 with 1 Axes>"
      ]
     },
     "metadata": {},
     "output_type": "display_data"
    }
   ],
   "source": [
    "zero = data.color[data.color==0].count()\n",
    "one = data.color[data.color==1].count()\n",
    "two = data.color[data.color==2].count()\n",
    "three = data.color[data.color==3].count()\n",
    "four = data.color[data.color==4].count()\n",
    "five = data.color[data.color==5].count()\n",
    "\n",
    "zero_per = zero/(zero + one + two + three + four + five)*100\n",
    "one_per = one/(zero + one + two + three + four + five)*100\n",
    "two_per = two/(zero + one + two + three + four + five)*100\n",
    "three_per = three/(zero + one + two + three + four + five)*100\n",
    "four_per = four/(zero + one + two + three + four + five)*100\n",
    "five_per = five/(zero + one + two + three + four + five)*100\n",
    "\n",
    "fig = plt.figure()\n",
    "colors1 = ['tab:red', 'tab:purple','tab:pink','tab:green','tab:orange', 'tab:blue']\n",
    "mylabels = [\"<1.2\", \"<2\", \"<4\", \"<8\", \"<25\", \">=25\"]\n",
    "plt.pie([zero_per, one_per, two_per, three_per, four_per, five_per], \n",
    "       pctdistance = 1.2, \n",
    "       autopct = '% .1f',\n",
    "       shadow = True,\n",
    "       textprops = {'color' : 'k', 'fontsize' : '12', 'ha' : 'center'},\n",
    "       colors = colors1)\n",
    "plt.legend(mylabels, loc='upper center')\n",
    "fig.suptitle('Probability of color for the game', fontsize=20)\n",
    "plt.show()\n"
   ]
  },
  {
   "cell_type": "markdown",
   "id": "ca08c010",
   "metadata": {},
   "source": [
    "### If you want to play like a real roulette (you bet on x2, a.k.a. pink color), you chances are 48.8% for winning and 51.2% for losing. With a lot of games casino will be in profit. But if you play for x1.2 (purple color) your chances of winning 81%. That mean win:lose is >4:1. That means it is profitable for you to bet on x1.2 color, because (1.2)^4 = 2.0736. And with a lot of games you will be in profit, if it was fair casino."
   ]
  },
  {
   "cell_type": "code",
   "execution_count": 30,
   "id": "7f2f284d",
   "metadata": {},
   "outputs": [
    {
     "name": "stderr",
     "output_type": "stream",
     "text": [
      "C:\\Users\\hp\\AppData\\Local\\Temp/ipykernel_11876/4123732960.py:8: SettingWithCopyWarning: \n",
      "A value is trying to be set on a copy of a slice from a DataFrame\n",
      "\n",
      "See the caveats in the documentation: https://pandas.pydata.org/pandas-docs/stable/user_guide/indexing.html#returning-a-view-versus-a-copy\n",
      "  data['HH'][i] = data['time'].values[i][11:-3]\n",
      "C:\\Users\\hp\\AppData\\Local\\Temp/ipykernel_11876/4123732960.py:7: SettingWithCopyWarning: \n",
      "A value is trying to be set on a copy of a slice from a DataFrame\n",
      "\n",
      "See the caveats in the documentation: https://pandas.pydata.org/pandas-docs/stable/user_guide/indexing.html#returning-a-view-versus-a-copy\n",
      "  data['time'][i] = data['time'][i-1]\n"
     ]
    }
   ],
   "source": [
    "# Let's check the time of the games\n",
    "namask = data['time'].isna()\n",
    "data['HH'] = 0\n",
    "\n",
    "for i in range(0,len(data['time'])):\n",
    "    if namask[i]:\n",
    "        data['time'][i] = data['time'][i-1]\n",
    "    data['HH'][i] = data['time'].values[i][11:-3]"
   ]
  },
  {
   "cell_type": "code",
   "execution_count": 31,
   "id": "bcff72da",
   "metadata": {},
   "outputs": [
    {
     "name": "stderr",
     "output_type": "stream",
     "text": [
      "C:\\Users\\hp\\AppData\\Local\\Temp/ipykernel_11876/472906222.py:59: UserWarning: Matplotlib is currently using module://matplotlib_inline.backend_inline, which is a non-GUI backend, so cannot show the figure.\n",
      "  fig.show()\n"
     ]
    },
    {
     "data": {
      "image/png": "[encoded data removed]",
      "text/plain": [
       "<Figure size 720x576 with 2 Axes>"
      ]
     },
     "metadata": {},
     "output_type": "display_data"
    }
   ],
   "source": [
    "time1 = 13\n",
    "time2 = 23\n",
    "\n",
    "zero = (data.color[data.color==0])[data.HH == time1].count()\n",
    "one = (data.color[data.color==1])[data.HH == time1].count()\n",
    "two = (data.color[data.color==2])[data.HH == time1].count()\n",
    "three = (data.color[data.color==3])[data.HH == time1].count()\n",
    "four = (data.color[data.color==4])[data.HH == time1].count()\n",
    "five = (data.color[data.color==5])[data.HH == time1].count()\n",
    "\n",
    "zero_per = zero/(zero + one + two + three + four + five)*100\n",
    "one_per = one/(zero + one + two + three + four + five)*100\n",
    "two_per = two/(zero + one + two + three + four + five)*100\n",
    "three_per = three/(zero + one + two + three + four + five)*100\n",
    "four_per = four/(zero + one + two + three + four + five)*100\n",
    "five_per = five/(zero + one + two + three + four + five)*100\n",
    "\n",
    "\n",
    "fig, (ax1, ax2) = plt.subplots(1, 2, figsize = (10,8))\n",
    "fig.tight_layout()\n",
    "fig.suptitle(\"Probability of color for the game\", fontsize = 24, y = 0.9)\n",
    "\n",
    "colors1 = ['tab:red', 'tab:purple','tab:pink','tab:green','tab:orange', 'tab:blue']\n",
    "mylabels = [\"<1.2\", \"<2\", \"<4\", \"<8\", \"<25\", \">=25\"]\n",
    "ax1.pie([zero_per, one_per, two_per, three_per, four_per, five_per], \n",
    "         pctdistance = 1.2, \n",
    "       autopct = '% .1f',\n",
    "       shadow = True,\n",
    "       textprops = {'color' : 'k', 'fontsize' : '12', 'ha' : 'center'},\n",
    "       colors = colors1)\n",
    "ax1.legend(mylabels, loc='upper center')\n",
    "ax1.set_title('13:00', fontsize = 18)\n",
    "\n",
    "\n",
    "zero = (data.color[data.color==0])[data.HH == time2].count()\n",
    "one = (data.color[data.color==1])[data.HH == time2].count()\n",
    "two = (data.color[data.color==2])[data.HH == time2].count()\n",
    "three = (data.color[data.color==3])[data.HH == time2].count()\n",
    "four = (data.color[data.color==4])[data.HH == time2].count()\n",
    "five = (data.color[data.color==5])[data.HH == time2].count()\n",
    "\n",
    "zero_per = zero/(zero + one + two + three + four + five)*100\n",
    "one_per = one/(zero + one + two + three + four + five)*100\n",
    "two_per = two/(zero + one + two + three + four + five)*100\n",
    "three_per = three/(zero + one + two + three + four + five)*100\n",
    "four_per = four/(zero + one + two + three + four + five)*100\n",
    "five_per = five/(zero + one + two + three + four + five)*100\n",
    "\n",
    "colors1 = ['tab:red', 'tab:purple','tab:pink','tab:green','tab:orange', 'tab:blue']\n",
    "mylabels = [\"<1.2\", \"<2\", \"<4\", \"<8\", \"<25\", \">=25\"]\n",
    "ax2.pie([zero_per, one_per, two_per, three_per, four_per, five_per],\n",
    "         pctdistance = 1.2, \n",
    "       autopct = '% .1f',\n",
    "       shadow = True,\n",
    "       textprops = {'color' : 'k', 'fontsize' : '12', 'ha' : 'center'},\n",
    "       colors = colors1)\n",
    "ax2.legend(mylabels, loc='upper center')\n",
    "ax2.set_title('23:00', fontsize = 18)\n",
    "fig.show()"
   ]
  },
  {
   "cell_type": "code",
   "execution_count": 2,
   "id": "9bb00313",
   "metadata": {},
   "outputs": [
    {
     "name": "stdout",
     "output_type": "stream",
     "text": [
      "Collecting jovianNote: you may need to restart the kernel to use updated packages.\n",
      "\n",
      "  Downloading jovian-0.2.41-py2.py3-none-any.whl (68 kB)\n",
      "Requirement already satisfied: click in c:\\users\\hp\\anaconda3\\lib\\site-packages (from jovian) (8.0.3)\n",
      "Collecting uuid\n",
      "  Downloading uuid-1.30.tar.gz (5.8 kB)\n",
      "Requirement already satisfied: requests in c:\\users\\hp\\anaconda3\\lib\\site-packages (from jovian) (2.26.0)\n",
      "Requirement already satisfied: pyyaml in c:\\users\\hp\\anaconda3\\lib\\site-packages (from jovian) (6.0)\n",
      "Requirement already satisfied: colorama in c:\\users\\hp\\anaconda3\\lib\\site-packages (from click->jovian) (0.4.4)\n",
      "Requirement already satisfied: charset-normalizer~=2.0.0 in c:\\users\\hp\\anaconda3\\lib\\site-packages (from requests->jovian) (2.0.4)\n",
      "Requirement already satisfied: urllib3<1.27,>=1.21.1 in c:\\users\\hp\\anaconda3\\lib\\site-packages (from requests->jovian) (1.26.7)\n",
      "Requirement already satisfied: certifi>=2017.4.17 in c:\\users\\hp\\anaconda3\\lib\\site-packages (from requests->jovian) (2021.10.8)\n",
      "Requirement already satisfied: idna<4,>=2.5 in c:\\users\\hp\\anaconda3\\lib\\site-packages (from requests->jovian) (3.2)\n",
      "Building wheels for collected packages: uuid\n",
      "  Building wheel for uuid (setup.py): started\n",
      "  Building wheel for uuid (setup.py): finished with status 'done'\n",
      "  Created wheel for uuid: filename=uuid-1.30-py3-none-any.whl size=6501 sha256=994fc88d66d2a3909415be15b8c50cd2de5f41ceb86f2a55a53cf6f238b4c1ef\n",
      "  Stored in directory: c:\\users\\hp\\appdata\\local\\pip\\cache\\wheels\\05\\d7\\b4\\4795d29c6decfffbf64c63e58b6c8b8bbfd4751488617dcd7a\n",
      "Successfully built uuid\n",
      "Installing collected packages: uuid, jovian\n",
      "Successfully installed jovian-0.2.41 uuid-1.30\n"
     ]
    }
   ],
   "source": [
    "pip install jovian"
   ]
  },
  {
   "cell_type": "code",
   "execution_count": null,
   "id": "c44c3f63",
   "metadata": {
    "scrolled": true
   },
   "outputs": [
    {
     "data": {
      "application/javascript": [
       "window.require && require([\"base/js/namespace\"],function(Jupyter){Jupyter.notebook.save_checkpoint()})"
      ],
      "text/plain": [
       "<IPython.core.display.Javascript object>"
      ]
     },
     "metadata": {},
     "output_type": "display_data"
    },
    {
     "name": "stdout",
     "output_type": "stream",
     "text": [
      "[jovian] Please enter your API key ( from https://jovian.ai/ ):\u001b[0m\n",
      "API KEY: ········\n"
     ]
    },
    {
     "name": "stderr",
     "output_type": "stream",
     "text": [
      "\u001b[31m[jovian] Error: The current API key is invalid or expired.\u001b[0m\n"
     ]
    },
    {
     "name": "stdout",
     "output_type": "stream",
     "text": [
      "[jovian] Please enter your API key ( from https://jovian.ai/ ):\u001b[0m\n",
      "API KEY:"
     ]
    }
   ],
   "source": [
    "import jovian\n",
    "jovian.commit()"
   ]
  },
  {
   "cell_type": "code",
   "execution_count": 1,
   "id": "d47bfeb6",
   "metadata": {},
   "outputs": [
    {
     "name": "stdout",
     "output_type": "stream",
     "text": [
      "Collecting plotly\n",
      "  Downloading plotly-5.11.0-py2.py3-none-any.whl (15.3 MB)\n",
      "Collecting tenacity>=6.2.0\n",
      "  Downloading tenacity-8.1.0-py3-none-any.whl (23 kB)\n",
      "Installing collected packages: tenacity, plotly\n",
      "Successfully installed plotly-5.11.0 tenacity-8.1.0\n",
      "Note: you may need to restart the kernel to use updated packages.\n"
     ]
    }
   ],
   "source": [
    "pip install plotly"
   ]
  },
  {
   "cell_type": "code",
   "execution_count": null,
   "id": "7e5d9260",
   "metadata": {},
   "outputs": [],
   "source": []
  },
  {
   "cell_type": "code",
   "execution_count": null,
   "id": "23f03229",
   "metadata": {},
   "outputs": [],
   "source": []
  }
 ],
 "metadata": {
  "kernelspec": {
   "display_name": "Python 3 (ipykernel)",
   "language": "python",
   "name": "python3"
  },
  "language_info": {
   "codemirror_mode": {
    "name": "ipython",
    "version": 3
   },
   "file_extension": ".py",
   "mimetype": "text/x-python",
   "name": "python",
   "nbconvert_exporter": "python",
   "pygments_lexer": "ipython3",
   "version": "3.9.7"
  }
 },
 "nbformat": 4,
 "nbformat_minor": 5
}
